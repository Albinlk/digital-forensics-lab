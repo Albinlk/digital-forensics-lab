{
 "cells": [
  {
   "cell_type": "code",
   "execution_count": 68,
   "source": [
    "import pypff\r\n",
    "\r\n",
    "pst_file = pypff.file()\r\n",
    "pst_file.open('informant_nist_gov.ost')\r\n",
    "root_folder = pst_file.get_root_folder()\r\n",
    "\r\n",
    "for folder in root_folder.sub_folders:\r\n",
    "    if folder.name == \"Root - Mailbox\":\r\n",
    "        print(f\"Folder Name: {folder.name}\")\r\n",
    "        print(f\"Number of Subfolders: {folder.number_of_sub_folders}\")\r\n",
    "        \r\n",
    "        for subfolder in folder.sub_folders:\r\n",
    "            if subfolder.name == \"IPM_SUBTREE\":\r\n",
    "                print(f\"Folder Name: {subfolder.name}\")\r\n",
    "                print(f\"Number of Subfolders: {subfolder.number_of_sub_folders}\")\r\n",
    "\r\n",
    "                for subsubfolder in subfolder.sub_folders:\r\n",
    "                    if subsubfolder.name == \"Inbox\":\r\n",
    "                        print(f\"Folder Name: {subsubfolder.name}\")\r\n",
    "                        print(f\"Number of Subfolders: {subsubfolder.number_of_sub_folders}\")\r\n",
    "                    \r\n",
    "                        for message in subsubfolder.sub_messages:\r\n",
    "                            print(\"=====================================\")\r\n",
    "                            print(f\"Message Subject: {message.subject}\")\r\n",
    "                            print(f\"Sender: {message.sender_name}\")\r\n",
    "                            print(f\"Body: {message.plain_text_body}\")\r\n",
    "                            print(f\"Number of Attachments: {message.number_of_attachments}\")\r\n",
    "                            print(f\"Delivery Time: {message.delivery_time}\")\r\n",
    "                            print(f\"Client Submit Time: {message.client_submit_time}\")\r\n"
   ],
   "outputs": [
    {
     "output_type": "stream",
     "name": "stdout",
     "text": [
      "Folder Name: Root - Mailbox\n",
      "Number of Subfolders: 10\n",
      "Folder Name: IPM_SUBTREE\n",
      "Number of Subfolders: 17\n",
      "Folder Name: Inbox\n",
      "Number of Subfolders: 0\n",
      "=====================================\n",
      "Message Subject: Hello, Iaman\n",
      "Sender: spy\n",
      "Body: None\n",
      "Number of Attachments: 0\n",
      "Delivery Time: 2015-03-23 17:29:29.181071\n",
      "Client Submit Time: 2015-03-23 17:29:27\n",
      "=====================================\n",
      "Message Subject: Good job, buddy.\n",
      "Sender: spy\n",
      "Body: None\n",
      "Number of Attachments: 0\n",
      "Delivery Time: 2015-03-23 19:15:00.258496\n",
      "Client Submit Time: 2015-03-23 19:14:58\n",
      "=====================================\n",
      "Message Subject: RE: Good job, buddy.\n",
      "Sender: spy\n",
      "Body: None\n",
      "Number of Attachments: 0\n",
      "Delivery Time: 2015-03-23 19:20:41.921166\n",
      "Client Submit Time: 2015-03-23 19:20:41\n",
      "=====================================\n",
      "Message Subject: Important request\n",
      "Sender: spy\n",
      "Body: None\n",
      "Number of Attachments: 0\n",
      "Delivery Time: 2015-03-23 19:26:23.855622\n",
      "Client Submit Time: 2015-03-23 19:26:22\n",
      "=====================================\n",
      "Message Subject: Last request\n",
      "Sender: spy\n",
      "Body: None\n",
      "Number of Attachments: 0\n",
      "Delivery Time: 2015-03-24 13:25:59.137876\n",
      "Client Submit Time: 2015-03-24 13:25:57\n"
     ]
    }
   ],
   "metadata": {}
  },
  {
   "cell_type": "code",
   "execution_count": null,
   "source": [],
   "outputs": [],
   "metadata": {}
  }
 ],
 "metadata": {
  "orig_nbformat": 4,
  "language_info": {
   "name": "python",
   "version": "3.11.4",
   "mimetype": "text/x-python",
   "codemirror_mode": {
    "name": "ipython",
    "version": 3
   },
   "pygments_lexer": "ipython3",
   "nbconvert_exporter": "python",
   "file_extension": ".py"
  },
  "kernelspec": {
   "name": "python3",
   "display_name": "Python 3.11.4 64-bit"
  },
  "interpreter": {
   "hash": "a06e30aee820ff8fe24fb428cece021c5cdfc4bd84062afc0eba853e87fef366"
  }
 },
 "nbformat": 4,
 "nbformat_minor": 2
}