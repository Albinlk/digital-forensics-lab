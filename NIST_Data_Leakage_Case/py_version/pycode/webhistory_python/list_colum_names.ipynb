{
 "cells": [
  {
   "cell_type": "code",
   "execution_count": 3,
   "source": [
    "import pandas as pd\r\n",
    "\r\n",
    "# Read the CSV file into a DataFrame\r\n",
    "df = pd.read_csv('IE11_container14.csv', delimiter='\\t')\r\n",
    "\r\n",
    "# List all columns in the DataFrame\r\n",
    "columns = df.columns.tolist()\r\n",
    "\r\n",
    "# Print the list of columns line by line\r\n",
    "for column in columns:\r\n",
    "    print(column)"
   ],
   "outputs": [
    {
     "output_type": "stream",
     "name": "stdout",
     "text": [
      "EntryId\n",
      "ContainerId\n",
      "CacheId\n",
      "UrlHash\n",
      "SecureDirectory\n",
      "FileSize\n",
      "Type\n",
      "Flags\n",
      "AccessCount\n",
      "SyncTime\n",
      "CreationTime\n",
      "ExpiryTime\n",
      "ModifiedTime\n",
      "AccessedTime\n",
      "PostCheckTime\n",
      "SyncCount\n",
      "ExemptionDelta\n",
      "Url\n",
      "Filename\n",
      "FileExtension\n",
      "RequestHeaders\n",
      "ResponseHeaders\n",
      "RedirectUrl\n",
      "Group\n",
      "ExtraData\n"
     ]
    }
   ],
   "metadata": {}
  },
  {
   "cell_type": "code",
   "execution_count": null,
   "source": [],
   "outputs": [],
   "metadata": {}
  }
 ],
 "metadata": {
  "orig_nbformat": 4,
  "language_info": {
   "name": "python",
   "version": "3.11.4",
   "mimetype": "text/x-python",
   "codemirror_mode": {
    "name": "ipython",
    "version": 3
   },
   "pygments_lexer": "ipython3",
   "nbconvert_exporter": "python",
   "file_extension": ".py"
  },
  "kernelspec": {
   "name": "python3",
   "display_name": "Python 3.11.4 64-bit"
  },
  "interpreter": {
   "hash": "a06e30aee820ff8fe24fb428cece021c5cdfc4bd84062afc0eba853e87fef366"
  }
 },
 "nbformat": 4,
 "nbformat_minor": 2
}