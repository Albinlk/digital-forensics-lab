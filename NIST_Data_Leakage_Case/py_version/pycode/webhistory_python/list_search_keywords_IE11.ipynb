{
 "cells": [
  {
   "cell_type": "code",
   "execution_count": 7,
   "source": [
    "import pandas as pd\r\n",
    "\r\n",
    "# Set Pandas display options\r\n",
    "pd.set_option('display.max_colwidth', 150)  # Disable column width truncation\r\n",
    "pd.set_option('display.max_rows', 50)     # Display the number of rows\r\n",
    "\r\n",
    "# Read the CSV file into a DataFrame\r\n",
    "df = pd.read_csv('IE11_container_6_9.csv', delimiter='\\t')\r\n",
    "\r\n",
    "# Specify the columns you want to display\r\n",
    "selected_columns = [ 'Url']\r\n",
    "\r\n",
    "# Create a new DataFrame containing only the selected columns\r\n",
    "df[selected_columns]"
   ],
   "outputs": [
    {
     "output_type": "execute_result",
     "data": {
      "text/plain": [
       "                                                                                                                                                       Url\n",
       "0    Visited: informant@http://www.facebook.com/v2.0/plugins/like.php?action=like&app_id=&channel=http%3A%2F%2Fstatic.ak.facebook.com%2Fconnect%2Fxd_ar...\n",
       "1    Visited: informant@http://www.facebook.com/plugins/like.php?action=like&app_id=&channel=http%3A%2F%2Fstatic.ak.facebook.com%2Fconnect%2Fxd_arbiter...\n",
       "2                                                                                                                                                      NaN\n",
       "3                                                                                                                                                      NaN\n",
       "4                                                                                                                                                      NaN\n",
       "..                                                                                                                                                     ...\n",
       "184                                          Visited: informant@http://p4-bx45atk7zyxog-7xw6fdnac2wemijo-if-v6exp3-v4.metric.gstatic.com/v6exp3/redir.html\n",
       "185                                         Visited: informant@http://p4-bx45atk7zyxog-7xw6fdnac2wemijo-if-v6exp3-v4.metric.gstatic.com/v6exp3/iframe.html\n",
       "186                                                                                                                  Visited: informant@javascript:void(0)\n",
       "187                                                                    Visited: informant@http://www.wired.com/2015/03/stealing-data-computers-using-heat/\n",
       "188                                                                                                     Visited: informant@http://www.wired.com/?p=1756538\n",
       "\n",
       "[189 rows x 1 columns]"
      ],
      "text/html": [
       "<div>\n",
       "<style scoped>\n",
       "    .dataframe tbody tr th:only-of-type {\n",
       "        vertical-align: middle;\n",
       "    }\n",
       "\n",
       "    .dataframe tbody tr th {\n",
       "        vertical-align: top;\n",
       "    }\n",
       "\n",
       "    .dataframe thead th {\n",
       "        text-align: right;\n",
       "    }\n",
       "</style>\n",
       "<table border=\"1\" class=\"dataframe\">\n",
       "  <thead>\n",
       "    <tr style=\"text-align: right;\">\n",
       "      <th></th>\n",
       "      <th>Url</th>\n",
       "    </tr>\n",
       "  </thead>\n",
       "  <tbody>\n",
       "    <tr>\n",
       "      <th>0</th>\n",
       "      <td>Visited: informant@http://www.facebook.com/v2.0/plugins/like.php?action=like&amp;app_id=&amp;channel=http%3A%2F%2Fstatic.ak.facebook.com%2Fconnect%2Fxd_ar...</td>\n",
       "    </tr>\n",
       "    <tr>\n",
       "      <th>1</th>\n",
       "      <td>Visited: informant@http://www.facebook.com/plugins/like.php?action=like&amp;app_id=&amp;channel=http%3A%2F%2Fstatic.ak.facebook.com%2Fconnect%2Fxd_arbiter...</td>\n",
       "    </tr>\n",
       "    <tr>\n",
       "      <th>2</th>\n",
       "      <td>NaN</td>\n",
       "    </tr>\n",
       "    <tr>\n",
       "      <th>3</th>\n",
       "      <td>NaN</td>\n",
       "    </tr>\n",
       "    <tr>\n",
       "      <th>4</th>\n",
       "      <td>NaN</td>\n",
       "    </tr>\n",
       "    <tr>\n",
       "      <th>...</th>\n",
       "      <td>...</td>\n",
       "    </tr>\n",
       "    <tr>\n",
       "      <th>184</th>\n",
       "      <td>Visited: informant@http://p4-bx45atk7zyxog-7xw6fdnac2wemijo-if-v6exp3-v4.metric.gstatic.com/v6exp3/redir.html</td>\n",
       "    </tr>\n",
       "    <tr>\n",
       "      <th>185</th>\n",
       "      <td>Visited: informant@http://p4-bx45atk7zyxog-7xw6fdnac2wemijo-if-v6exp3-v4.metric.gstatic.com/v6exp3/iframe.html</td>\n",
       "    </tr>\n",
       "    <tr>\n",
       "      <th>186</th>\n",
       "      <td>Visited: informant@javascript:void(0)</td>\n",
       "    </tr>\n",
       "    <tr>\n",
       "      <th>187</th>\n",
       "      <td>Visited: informant@http://www.wired.com/2015/03/stealing-data-computers-using-heat/</td>\n",
       "    </tr>\n",
       "    <tr>\n",
       "      <th>188</th>\n",
       "      <td>Visited: informant@http://www.wired.com/?p=1756538</td>\n",
       "    </tr>\n",
       "  </tbody>\n",
       "</table>\n",
       "<p>189 rows × 1 columns</p>\n",
       "</div>"
      ]
     },
     "metadata": {},
     "execution_count": 7
    }
   ],
   "metadata": {}
  },
  {
   "cell_type": "code",
   "execution_count": null,
   "source": [],
   "outputs": [],
   "metadata": {}
  }
 ],
 "metadata": {
  "orig_nbformat": 4,
  "language_info": {
   "name": "python",
   "version": "3.11.4",
   "mimetype": "text/x-python",
   "codemirror_mode": {
    "name": "ipython",
    "version": 3
   },
   "pygments_lexer": "ipython3",
   "nbconvert_exporter": "python",
   "file_extension": ".py"
  },
  "kernelspec": {
   "name": "python3",
   "display_name": "Python 3.11.4 64-bit"
  },
  "interpreter": {
   "hash": "a06e30aee820ff8fe24fb428cece021c5cdfc4bd84062afc0eba853e87fef366"
  }
 },
 "nbformat": 4,
 "nbformat_minor": 2
}